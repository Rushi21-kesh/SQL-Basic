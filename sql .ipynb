{
 "cells": [
  {
   "cell_type": "markdown",
   "metadata": {},
   "source": [
    "<h1 align='center' style='color:#3366DD'>INTRODUCTION TO SQL</h1>\n",
    "\n",
    "- <h3 style='color:#113399'> What is SQL : </h3> \n",
    "        \n",
    "        SQL Stand for Structural Query Language it is used for storing, retrieving and manipulating data from database.  \n",
    "    \n",
    "- <h3 style='color:#113399'>What is Database :</h3>    \n",
    "       \n",
    "       Data Database is a ordered collection of data, Which is stored in electronic format.    \n",
    "    \n",
    "- <h3 style='color:#113399'>What is DBMS :</h3>\n",
    "        \n",
    "        It is a System software which is able to create and managing databases. It store data in table form also called in the form of rows and columns"
   ]
  },
  {
   "cell_type": "markdown",
   "metadata": {},
   "source": [
    "- Im using MySql and python for handling queries"
   ]
  },
  {
   "cell_type": "markdown",
   "metadata": {},
   "source": [
    "- <h3 style='color:#113399'> Import Libraries"
   ]
  },
  {
   "cell_type": "code",
   "execution_count": 1,
   "metadata": {},
   "outputs": [],
   "source": [
    "# import required libraries\n",
    "import mysql.connector as connector\n",
    "import getpass"
   ]
  },
  {
   "cell_type": "markdown",
   "metadata": {},
   "source": [
    "- <h3 style='color:#113399'>Make a connection"
   ]
  },
  {
   "cell_type": "code",
   "execution_count": 2,
   "metadata": {},
   "outputs": [
    {
     "name": "stdout",
     "output_type": "stream",
     "text": [
      "Enter host name : 127.0.0.1\n",
      "Enter user name : root\n",
      "Enter password : ········\n",
      "Connection is established :  True\n"
     ]
    }
   ],
   "source": [
    "def make_connection():\n",
    "    try : \n",
    "        host = input(\"Enter host name : \")\n",
    "        user = input(\"Enter user name : \")\n",
    "        passws = getpass.getpass('Enter password : ')\n",
    "\n",
    "        #create connection object \n",
    "        mysql = connector.connect(host=host,user=user,passwd=passws,use_pure=True)\n",
    "        return mysql\n",
    "    except Exception as e:\n",
    "        print(e)\n",
    "        \n",
    "mysql = make_connection()\n",
    "print('Connection is established : ',mysql.is_connected())"
   ]
  },
  {
   "cell_type": "markdown",
   "metadata": {},
   "source": [
    "- <h3 style='color:#113399'>Creating a cursor "
   ]
  },
  {
   "cell_type": "code",
   "execution_count": 3,
   "metadata": {},
   "outputs": [],
   "source": [
    "cur = mysql.cursor()"
   ]
  },
  {
   "cell_type": "markdown",
   "metadata": {},
   "source": [
    "<h2 align='center' style='color:red'>SQL Queries"
   ]
  },
  {
   "cell_type": "markdown",
   "metadata": {},
   "source": [
    "- <h3 style='color:#DD6611'> Show databases"
   ]
  },
  {
   "cell_type": "code",
   "execution_count": 4,
   "metadata": {},
   "outputs": [
    {
     "data": {
      "text/plain": [
       "[('bank',),\n",
       " ('information_schema',),\n",
       " ('mysql',),\n",
       " ('performance_schema',),\n",
       " ('rushi21',),\n",
       " ('sqlintro',),\n",
       " ('sys',),\n",
       " ('try_rush',)]"
      ]
     },
     "execution_count": 4,
     "metadata": {},
     "output_type": "execute_result"
    }
   ],
   "source": [
    "cur.execute('show databases')\n",
    "cur.fetchall()"
   ]
  },
  {
   "cell_type": "markdown",
   "metadata": {},
   "source": [
    "- <h3 style='color:#DD6611'> Create a own database name as 'sqlintro'"
   ]
  },
  {
   "cell_type": "code",
   "execution_count": null,
   "metadata": {},
   "outputs": [],
   "source": [
    "cur.execute('create database sqlintro')\n",
    "mysql.commit()"
   ]
  },
  {
   "cell_type": "markdown",
   "metadata": {},
   "source": [
    "- <h3 style='color:#DD6611'> Now, check database list"
   ]
  },
  {
   "cell_type": "code",
   "execution_count": 5,
   "metadata": {},
   "outputs": [
    {
     "data": {
      "text/plain": [
       "[('bank',),\n",
       " ('information_schema',),\n",
       " ('mysql',),\n",
       " ('performance_schema',),\n",
       " ('rushi21',),\n",
       " ('sqlintro',),\n",
       " ('sys',),\n",
       " ('try_rush',)]"
      ]
     },
     "execution_count": 5,
     "metadata": {},
     "output_type": "execute_result"
    }
   ],
   "source": [
    "cur.execute('show databases')\n",
    "cur.fetchall()"
   ]
  },
  {
   "cell_type": "markdown",
   "metadata": {},
   "source": [
    "- <h3 style='color:#DD6611'> Use 'sqlintro' database"
   ]
  },
  {
   "cell_type": "code",
   "execution_count": 6,
   "metadata": {},
   "outputs": [],
   "source": [
    "cur.execute('use sqlintro')"
   ]
  },
  {
   "cell_type": "markdown",
   "metadata": {},
   "source": [
    "- <h3 style='color:#DD6611'> Check Table in 'sqlintro'\n",
    "\n",
    "We did not add any table means our expected output is null"
   ]
  },
  {
   "cell_type": "code",
   "execution_count": 7,
   "metadata": {},
   "outputs": [
    {
     "data": {
      "text/plain": [
       "[('student',)]"
      ]
     },
     "execution_count": 7,
     "metadata": {},
     "output_type": "execute_result"
    }
   ],
   "source": [
    "cur.execute('show tables')\n",
    "cur.fetchall()"
   ]
  },
  {
   "cell_type": "markdown",
   "metadata": {},
   "source": [
    "- <h3 style='color:#DD6611'> Create a table 'student'"
   ]
  },
  {
   "cell_type": "code",
   "execution_count": null,
   "metadata": {},
   "outputs": [],
   "source": [
    "cur.execute('Create table student(s_id int,f_name varchar(20),l_name varchar(20),s_age int,s_course varchar(20),duration int,fees int,join_date date, primary key(s_id))')\n",
    "cur.execute('show tables')\n",
    "cur.fetchall()"
   ]
  },
  {
   "cell_type": "markdown",
   "metadata": {},
   "source": [
    "- <h3 style='color:#DD6611'> Describe student table"
   ]
  },
  {
   "cell_type": "code",
   "execution_count": 8,
   "metadata": {},
   "outputs": [
    {
     "data": {
      "text/plain": [
       "[('s_id', b'int', 'NO', 'PRI', None, ''),\n",
       " ('f_name', b'varchar(20)', 'YES', '', None, ''),\n",
       " ('l_name', b'varchar(20)', 'YES', '', None, ''),\n",
       " ('s_age', b'int', 'YES', '', None, ''),\n",
       " ('s_course', b'varchar(20)', 'YES', '', None, ''),\n",
       " ('duration', b'int', 'YES', '', None, ''),\n",
       " ('fees', b'int', 'YES', '', None, ''),\n",
       " ('join_date', b'date', 'YES', '', None, '')]"
      ]
     },
     "execution_count": 8,
     "metadata": {},
     "output_type": "execute_result"
    }
   ],
   "source": [
    "cur.execute(\"desc student\")\n",
    "cur.fetchall()"
   ]
  },
  {
   "cell_type": "markdown",
   "metadata": {},
   "source": [
    "- <h3 style='color:#DD6611'> Insert values into table 'student'"
   ]
  },
  {
   "cell_type": "code",
   "execution_count": null,
   "metadata": {},
   "outputs": [],
   "source": [
    "cur.execute(\"insert into student values(1,'Mick','COX',23,'BE',4,93000,'2018-04-09')\")\n",
    "cur.execute(\"insert into student values(2,'Allen','Smith',22,'BSc',3,23900,'2019-05-21')\")\n",
    "cur.execute(\"insert into student values(3,'Jane','Brown',23,'BSc',3,31900,'2018-07-02')\")\n",
    "cur.execute(\"insert into student values(4,'Mary','Jones',31,'BCom',3,23000,'2013-12-30')\")\n",
    "cur.execute(\"insert into student values(5,'Ella','Garcia',25,'BE',4,89056,'2017-08-19')\")\n",
    "cur.execute(\"insert into student values(6,'Isla','Taylor',20,'BCom',3,30567,'2020-02-17')\")\n",
    "cur.execute(\"insert into student values(7,'Robert','Lee',24,'ME',2,234000,'2018-11-29')\")\n",
    "cur.execute(\"insert into student values(8,'John','Moore',21,'BCom',3,48770,'2019-06-27')\")\n",
    "cur.execute(\"insert into student values(9,'Jack','Davis',20,'BE',4,91064,'2021-07-11')\")\n",
    "cur.execute(\"insert into student values(10,'Noah','Jones',22,'BE',4,95890,'2019-04-15')\")\n",
    "cur.execute(\"insert into student values(11,'Alfie','White',21,'BSc',3,27980,'2020-02-05')\")\n",
    "cur.execute(\"insert into student values(12,'Leo','Johnson',29,'ME',2,198700,'2015-06-19')\")"
   ]
  },
  {
   "cell_type": "markdown",
   "metadata": {},
   "source": [
    "- <h3 style='color:#DD6611'> The SQL SELECT QUERY"
   ]
  },
  {
   "cell_type": "markdown",
   "metadata": {},
   "source": [
    "- Read all data in student table"
   ]
  },
  {
   "cell_type": "code",
   "execution_count": 9,
   "metadata": {},
   "outputs": [
    {
     "data": {
      "text/plain": [
       "[(1, 'Mick', 'COX', 23, 'BE', 4, 93000, datetime.date(2018, 4, 9)),\n",
       " (2, 'Allen', 'Smith', 22, 'BSc', 3, 23900, datetime.date(2019, 5, 21)),\n",
       " (3, 'Jane', 'Brown', 23, 'BSc', 3, 31900, datetime.date(2018, 7, 2)),\n",
       " (4, 'Mary', 'Jones', 31, 'BCom', 3, 23000, datetime.date(2013, 12, 30)),\n",
       " (5, 'Ella', 'Garcia', 25, 'BE', 4, 89056, datetime.date(2017, 8, 19)),\n",
       " (6, 'Isla', 'Taylor', 20, 'BCom', 3, 30567, datetime.date(2020, 2, 17)),\n",
       " (7, 'Robert', 'Lee', 24, 'ME', 2, 234000, datetime.date(2018, 11, 29)),\n",
       " (8, 'John', 'Moore', 21, 'BCom', 3, 48770, datetime.date(2019, 6, 27)),\n",
       " (9, 'Jack', 'Davis', 20, 'BE', 4, 91064, datetime.date(2021, 7, 11)),\n",
       " (10, 'Noah', 'Jones', 22, 'BE', 4, 95890, datetime.date(2019, 4, 15)),\n",
       " (11, 'Alfie', 'White', 21, 'BSc', 3, 27980, datetime.date(2020, 2, 5)),\n",
       " (12, 'Leo', 'Johnson', 29, 'ME', 2, 198700, datetime.date(2015, 6, 19))]"
      ]
     },
     "execution_count": 9,
     "metadata": {},
     "output_type": "execute_result"
    }
   ],
   "source": [
    "mysql.commit()\n",
    "cur.execute('select * from student')\n",
    "data = cur.fetchall()\n",
    "data"
   ]
  },
  {
   "cell_type": "markdown",
   "metadata": {},
   "source": [
    "- Print first name ,course name and joining date"
   ]
  },
  {
   "cell_type": "code",
   "execution_count": 10,
   "metadata": {},
   "outputs": [
    {
     "data": {
      "text/plain": [
       "[('Mick', 'BE', datetime.date(2018, 4, 9)),\n",
       " ('Allen', 'BSc', datetime.date(2019, 5, 21)),\n",
       " ('Jane', 'BSc', datetime.date(2018, 7, 2)),\n",
       " ('Mary', 'BCom', datetime.date(2013, 12, 30)),\n",
       " ('Ella', 'BE', datetime.date(2017, 8, 19)),\n",
       " ('Isla', 'BCom', datetime.date(2020, 2, 17)),\n",
       " ('Robert', 'ME', datetime.date(2018, 11, 29)),\n",
       " ('John', 'BCom', datetime.date(2019, 6, 27)),\n",
       " ('Jack', 'BE', datetime.date(2021, 7, 11)),\n",
       " ('Noah', 'BE', datetime.date(2019, 4, 15)),\n",
       " ('Alfie', 'BSc', datetime.date(2020, 2, 5)),\n",
       " ('Leo', 'ME', datetime.date(2015, 6, 19))]"
      ]
     },
     "execution_count": 10,
     "metadata": {},
     "output_type": "execute_result"
    }
   ],
   "source": [
    "cur.execute('select f_name,s_course,join_date from student')\n",
    "data = cur.fetchall()\n",
    "data"
   ]
  },
  {
   "cell_type": "markdown",
   "metadata": {},
   "source": [
    "- Print all DISTINCT courses in table "
   ]
  },
  {
   "cell_type": "code",
   "execution_count": 11,
   "metadata": {},
   "outputs": [
    {
     "data": {
      "text/plain": [
       "[('BE',), ('BSc',), ('BCom',), ('ME',)]"
      ]
     },
     "execution_count": 11,
     "metadata": {},
     "output_type": "execute_result"
    }
   ],
   "source": [
    "cur.execute('select distinct s_course from student')\n",
    "data = cur.fetchall()\n",
    "data"
   ]
  },
  {
   "cell_type": "markdown",
   "metadata": {},
   "source": [
    "- <h3 style='color:#DD6611'> The SQL WHERE CLAUSE"
   ]
  },
  {
   "cell_type": "markdown",
   "metadata": {},
   "source": [
    "- Print data of students whose course is BE"
   ]
  },
  {
   "cell_type": "code",
   "execution_count": 12,
   "metadata": {
    "scrolled": true
   },
   "outputs": [
    {
     "data": {
      "text/plain": [
       "[(1, 'Mick', 'COX', 23, 'BE', 4, 93000, datetime.date(2018, 4, 9)),\n",
       " (5, 'Ella', 'Garcia', 25, 'BE', 4, 89056, datetime.date(2017, 8, 19)),\n",
       " (9, 'Jack', 'Davis', 20, 'BE', 4, 91064, datetime.date(2021, 7, 11)),\n",
       " (10, 'Noah', 'Jones', 22, 'BE', 4, 95890, datetime.date(2019, 4, 15))]"
      ]
     },
     "execution_count": 12,
     "metadata": {},
     "output_type": "execute_result"
    }
   ],
   "source": [
    "cur.execute(\"select * from student where s_course='BE'\")\n",
    "data = cur.fetchall()\n",
    "data"
   ]
  },
  {
   "cell_type": "markdown",
   "metadata": {},
   "source": [
    "- print id,first name,course name of student whose course duration is less than equal to 2"
   ]
  },
  {
   "cell_type": "code",
   "execution_count": 13,
   "metadata": {},
   "outputs": [
    {
     "data": {
      "text/plain": [
       "[(7, 'Robert', 'ME'), (12, 'Leo', 'ME')]"
      ]
     },
     "execution_count": 13,
     "metadata": {},
     "output_type": "execute_result"
    }
   ],
   "source": [
    "cur.execute(\"select s_id,f_name,s_course from student where duration  <= 2\")\n",
    "data = cur.fetchall()\n",
    "data"
   ]
  },
  {
   "cell_type": "markdown",
   "metadata": {},
   "source": [
    "- <h3 style='color:#DD6611'> A WHERE clause with AND , OR, NOT"
   ]
  },
  {
   "cell_type": "markdown",
   "metadata": {},
   "source": [
    "- print details of student whose course duration is greater than 2 and id is even"
   ]
  },
  {
   "cell_type": "code",
   "execution_count": 14,
   "metadata": {
    "scrolled": true
   },
   "outputs": [
    {
     "data": {
      "text/plain": [
       "[(2, 'Allen', 'Smith', 22, 'BSc', 3, 23900, datetime.date(2019, 5, 21)),\n",
       " (4, 'Mary', 'Jones', 31, 'BCom', 3, 23000, datetime.date(2013, 12, 30)),\n",
       " (6, 'Isla', 'Taylor', 20, 'BCom', 3, 30567, datetime.date(2020, 2, 17)),\n",
       " (8, 'John', 'Moore', 21, 'BCom', 3, 48770, datetime.date(2019, 6, 27)),\n",
       " (10, 'Noah', 'Jones', 22, 'BE', 4, 95890, datetime.date(2019, 4, 15))]"
      ]
     },
     "execution_count": 14,
     "metadata": {},
     "output_type": "execute_result"
    }
   ],
   "source": [
    "cur.execute(\"select * from student where duration >2 and s_id % 2=0\")\n",
    "data = cur.fetchall()\n",
    "data"
   ]
  },
  {
   "cell_type": "markdown",
   "metadata": {},
   "source": [
    "- print id and course whose course is BCom and joining date is previous than '2015-01-01'"
   ]
  },
  {
   "cell_type": "code",
   "execution_count": 15,
   "metadata": {},
   "outputs": [
    {
     "data": {
      "text/plain": [
       "[(4, 'BCom')]"
      ]
     },
     "execution_count": 15,
     "metadata": {},
     "output_type": "execute_result"
    }
   ],
   "source": [
    "cur.execute(\"select s_id,s_course from student where s_course='BCom' and join_date<'2015-01-01'\")\n",
    "data = cur.fetchall()\n",
    "data"
   ]
  },
  {
   "cell_type": "markdown",
   "metadata": {},
   "source": [
    "- Print the data of student whose course duration is greater then 3 or course is ME"
   ]
  },
  {
   "cell_type": "code",
   "execution_count": 16,
   "metadata": {},
   "outputs": [
    {
     "data": {
      "text/plain": [
       "[(1, 'Mick', 'COX', 23, 'BE', 4, 93000, datetime.date(2018, 4, 9)),\n",
       " (5, 'Ella', 'Garcia', 25, 'BE', 4, 89056, datetime.date(2017, 8, 19)),\n",
       " (7, 'Robert', 'Lee', 24, 'ME', 2, 234000, datetime.date(2018, 11, 29)),\n",
       " (9, 'Jack', 'Davis', 20, 'BE', 4, 91064, datetime.date(2021, 7, 11)),\n",
       " (10, 'Noah', 'Jones', 22, 'BE', 4, 95890, datetime.date(2019, 4, 15)),\n",
       " (12, 'Leo', 'Johnson', 29, 'ME', 2, 198700, datetime.date(2015, 6, 19))]"
      ]
     },
     "execution_count": 16,
     "metadata": {},
     "output_type": "execute_result"
    }
   ],
   "source": [
    "cur.execute(\"select * from student where s_course='ME' or duration>3\")\n",
    "data = cur.fetchall()\n",
    "data"
   ]
  },
  {
   "cell_type": "markdown",
   "metadata": {},
   "source": [
    "- Print the id,first name , last name and course where id is odd or course is Bsc"
   ]
  },
  {
   "cell_type": "code",
   "execution_count": 17,
   "metadata": {},
   "outputs": [
    {
     "data": {
      "text/plain": [
       "[(1, 'Mick', 'COX', 'BE'),\n",
       " (2, 'Allen', 'Smith', 'BSc'),\n",
       " (3, 'Jane', 'Brown', 'BSc'),\n",
       " (5, 'Ella', 'Garcia', 'BE'),\n",
       " (7, 'Robert', 'Lee', 'ME'),\n",
       " (9, 'Jack', 'Davis', 'BE'),\n",
       " (11, 'Alfie', 'White', 'BSc')]"
      ]
     },
     "execution_count": 17,
     "metadata": {},
     "output_type": "execute_result"
    }
   ],
   "source": [
    "cur.execute(\"select s_id,f_name,l_name,s_course from student where s_course='BSc' or s_id%2=1\")\n",
    "data = cur.fetchall()\n",
    "data"
   ]
  },
  {
   "cell_type": "markdown",
   "metadata": {},
   "source": [
    "- print the details of student whose course is not a BE"
   ]
  },
  {
   "cell_type": "code",
   "execution_count": 18,
   "metadata": {},
   "outputs": [
    {
     "data": {
      "text/plain": [
       "[(2, 'Allen', 'Smith', 22, 'BSc', 3, 23900, datetime.date(2019, 5, 21)),\n",
       " (3, 'Jane', 'Brown', 23, 'BSc', 3, 31900, datetime.date(2018, 7, 2)),\n",
       " (4, 'Mary', 'Jones', 31, 'BCom', 3, 23000, datetime.date(2013, 12, 30)),\n",
       " (6, 'Isla', 'Taylor', 20, 'BCom', 3, 30567, datetime.date(2020, 2, 17)),\n",
       " (7, 'Robert', 'Lee', 24, 'ME', 2, 234000, datetime.date(2018, 11, 29)),\n",
       " (8, 'John', 'Moore', 21, 'BCom', 3, 48770, datetime.date(2019, 6, 27)),\n",
       " (11, 'Alfie', 'White', 21, 'BSc', 3, 27980, datetime.date(2020, 2, 5)),\n",
       " (12, 'Leo', 'Johnson', 29, 'ME', 2, 198700, datetime.date(2015, 6, 19))]"
      ]
     },
     "execution_count": 18,
     "metadata": {},
     "output_type": "execute_result"
    }
   ],
   "source": [
    "cur.execute(\"select * from student where NOT s_course='BE'\")\n",
    "data = cur.fetchall()\n",
    "data"
   ]
  },
  {
   "cell_type": "markdown",
   "metadata": {},
   "source": [
    "- Print details of student whose didn't join course before '2018-12-31' "
   ]
  },
  {
   "cell_type": "code",
   "execution_count": 19,
   "metadata": {},
   "outputs": [
    {
     "data": {
      "text/plain": [
       "[(2, 'Allen', 'Smith', 22, 'BSc', 3, 23900, datetime.date(2019, 5, 21)),\n",
       " (6, 'Isla', 'Taylor', 20, 'BCom', 3, 30567, datetime.date(2020, 2, 17)),\n",
       " (8, 'John', 'Moore', 21, 'BCom', 3, 48770, datetime.date(2019, 6, 27)),\n",
       " (9, 'Jack', 'Davis', 20, 'BE', 4, 91064, datetime.date(2021, 7, 11)),\n",
       " (10, 'Noah', 'Jones', 22, 'BE', 4, 95890, datetime.date(2019, 4, 15)),\n",
       " (11, 'Alfie', 'White', 21, 'BSc', 3, 27980, datetime.date(2020, 2, 5))]"
      ]
     },
     "execution_count": 19,
     "metadata": {},
     "output_type": "execute_result"
    }
   ],
   "source": [
    "cur.execute(\"select * from student where NOT join_date<'2018-12-31'\")\n",
    "data = cur.fetchall()\n",
    "data"
   ]
  },
  {
   "cell_type": "markdown",
   "metadata": {},
   "source": [
    "- <h3 style='color:#DD6611'> The SQL ORDER BY"
   ]
  },
  {
   "cell_type": "markdown",
   "metadata": {},
   "source": [
    "- Print all deatils is alphabetical order based on first name"
   ]
  },
  {
   "cell_type": "code",
   "execution_count": 20,
   "metadata": {},
   "outputs": [
    {
     "data": {
      "text/plain": [
       "[(11, 'Alfie', 'White', 21, 'BSc', 3, 27980, datetime.date(2020, 2, 5)),\n",
       " (2, 'Allen', 'Smith', 22, 'BSc', 3, 23900, datetime.date(2019, 5, 21)),\n",
       " (5, 'Ella', 'Garcia', 25, 'BE', 4, 89056, datetime.date(2017, 8, 19)),\n",
       " (6, 'Isla', 'Taylor', 20, 'BCom', 3, 30567, datetime.date(2020, 2, 17)),\n",
       " (9, 'Jack', 'Davis', 20, 'BE', 4, 91064, datetime.date(2021, 7, 11)),\n",
       " (3, 'Jane', 'Brown', 23, 'BSc', 3, 31900, datetime.date(2018, 7, 2)),\n",
       " (8, 'John', 'Moore', 21, 'BCom', 3, 48770, datetime.date(2019, 6, 27)),\n",
       " (12, 'Leo', 'Johnson', 29, 'ME', 2, 198700, datetime.date(2015, 6, 19)),\n",
       " (4, 'Mary', 'Jones', 31, 'BCom', 3, 23000, datetime.date(2013, 12, 30)),\n",
       " (1, 'Mick', 'COX', 23, 'BE', 4, 93000, datetime.date(2018, 4, 9)),\n",
       " (10, 'Noah', 'Jones', 22, 'BE', 4, 95890, datetime.date(2019, 4, 15)),\n",
       " (7, 'Robert', 'Lee', 24, 'ME', 2, 234000, datetime.date(2018, 11, 29))]"
      ]
     },
     "execution_count": 20,
     "metadata": {},
     "output_type": "execute_result"
    }
   ],
   "source": [
    "cur.execute(\"select * from student order by f_name\")\n",
    "data = cur.fetchall()\n",
    "data"
   ]
  },
  {
   "cell_type": "markdown",
   "metadata": {},
   "source": [
    "- odder a table in such way that new joined student at top"
   ]
  },
  {
   "cell_type": "code",
   "execution_count": 21,
   "metadata": {},
   "outputs": [
    {
     "data": {
      "text/plain": [
       "[(9, 'Jack', 'Davis', 20, 'BE', 4, 91064, datetime.date(2021, 7, 11)),\n",
       " (6, 'Isla', 'Taylor', 20, 'BCom', 3, 30567, datetime.date(2020, 2, 17)),\n",
       " (11, 'Alfie', 'White', 21, 'BSc', 3, 27980, datetime.date(2020, 2, 5)),\n",
       " (8, 'John', 'Moore', 21, 'BCom', 3, 48770, datetime.date(2019, 6, 27)),\n",
       " (2, 'Allen', 'Smith', 22, 'BSc', 3, 23900, datetime.date(2019, 5, 21)),\n",
       " (10, 'Noah', 'Jones', 22, 'BE', 4, 95890, datetime.date(2019, 4, 15)),\n",
       " (7, 'Robert', 'Lee', 24, 'ME', 2, 234000, datetime.date(2018, 11, 29)),\n",
       " (3, 'Jane', 'Brown', 23, 'BSc', 3, 31900, datetime.date(2018, 7, 2)),\n",
       " (1, 'Mick', 'COX', 23, 'BE', 4, 93000, datetime.date(2018, 4, 9)),\n",
       " (5, 'Ella', 'Garcia', 25, 'BE', 4, 89056, datetime.date(2017, 8, 19)),\n",
       " (12, 'Leo', 'Johnson', 29, 'ME', 2, 198700, datetime.date(2015, 6, 19)),\n",
       " (4, 'Mary', 'Jones', 31, 'BCom', 3, 23000, datetime.date(2013, 12, 30))]"
      ]
     },
     "execution_count": 21,
     "metadata": {},
     "output_type": "execute_result"
    }
   ],
   "source": [
    "cur.execute(\"select * from student order by join_date desc\")\n",
    "data = cur.fetchall()\n",
    "data"
   ]
  },
  {
   "cell_type": "markdown",
   "metadata": {},
   "source": [
    "- <h3 style='color:#DD6611'> The SQL SELECT TOP CLAUSE"
   ]
  },
  {
   "cell_type": "markdown",
   "metadata": {},
   "source": [
    "- select top 5 records of students"
   ]
  },
  {
   "cell_type": "code",
   "execution_count": 22,
   "metadata": {},
   "outputs": [
    {
     "data": {
      "text/plain": [
       "[(1, 'Mick', 'COX', 23, 'BE', 4, 93000, datetime.date(2018, 4, 9)),\n",
       " (2, 'Allen', 'Smith', 22, 'BSc', 3, 23900, datetime.date(2019, 5, 21)),\n",
       " (3, 'Jane', 'Brown', 23, 'BSc', 3, 31900, datetime.date(2018, 7, 2)),\n",
       " (4, 'Mary', 'Jones', 31, 'BCom', 3, 23000, datetime.date(2013, 12, 30)),\n",
       " (5, 'Ella', 'Garcia', 25, 'BE', 4, 89056, datetime.date(2017, 8, 19))]"
      ]
     },
     "execution_count": 22,
     "metadata": {},
     "output_type": "execute_result"
    }
   ],
   "source": [
    "cur.execute(\"Select * from student limit 5\")\n",
    "cur.fetchall()"
   ]
  },
  {
   "cell_type": "markdown",
   "metadata": {},
   "source": [
    "- odder a table in such way that new joined student at top and print details of top 3 students"
   ]
  },
  {
   "cell_type": "code",
   "execution_count": 23,
   "metadata": {},
   "outputs": [
    {
     "data": {
      "text/plain": [
       "[(9, 'Jack', 'Davis', 20, 'BE', 4, 91064, datetime.date(2021, 7, 11)),\n",
       " (6, 'Isla', 'Taylor', 20, 'BCom', 3, 30567, datetime.date(2020, 2, 17)),\n",
       " (11, 'Alfie', 'White', 21, 'BSc', 3, 27980, datetime.date(2020, 2, 5))]"
      ]
     },
     "execution_count": 23,
     "metadata": {},
     "output_type": "execute_result"
    }
   ],
   "source": [
    "cur.execute(\"select * from student order by join_date desc limit 3\")\n",
    "cur.fetchall()"
   ]
  },
  {
   "cell_type": "markdown",
   "metadata": {},
   "source": [
    "- <h3 style='color:#DD6611'> The SQL LIKE-OPERATOR"
   ]
  },
  {
   "cell_type": "markdown",
   "metadata": {},
   "source": [
    "- Selects all columns of the customer with a first_name starting with \"J\""
   ]
  },
  {
   "cell_type": "code",
   "execution_count": 24,
   "metadata": {},
   "outputs": [
    {
     "data": {
      "text/plain": [
       "[(3, 'Jane', 'Brown', 23, 'BSc', 3, 31900, datetime.date(2018, 7, 2)),\n",
       " (8, 'John', 'Moore', 21, 'BCom', 3, 48770, datetime.date(2019, 6, 27)),\n",
       " (9, 'Jack', 'Davis', 20, 'BE', 4, 91064, datetime.date(2021, 7, 11))]"
      ]
     },
     "execution_count": 24,
     "metadata": {},
     "output_type": "execute_result"
    }
   ],
   "source": [
    "cur.execute(\"select * from student where f_name LIKE 'J%'\")\n",
    "cur.fetchall()"
   ]
  },
  {
   "cell_type": "markdown",
   "metadata": {},
   "source": [
    "- Selects all columns of the customer with a first_name Ending with \"E\""
   ]
  },
  {
   "cell_type": "code",
   "execution_count": 25,
   "metadata": {},
   "outputs": [
    {
     "data": {
      "text/plain": [
       "[(3, 'Jane', 'Brown', 23, 'BSc', 3, 31900, datetime.date(2018, 7, 2)),\n",
       " (11, 'Alfie', 'White', 21, 'BSc', 3, 27980, datetime.date(2020, 2, 5))]"
      ]
     },
     "execution_count": 25,
     "metadata": {},
     "output_type": "execute_result"
    }
   ],
   "source": [
    "cur.execute(\"select * from student where f_name Like '%e'\")\n",
    "cur.fetchall()"
   ]
  },
  {
   "cell_type": "markdown",
   "metadata": {},
   "source": [
    "- Selects all columns of the customer with a last _name that have \"on\" in any position."
   ]
  },
  {
   "cell_type": "code",
   "execution_count": 26,
   "metadata": {},
   "outputs": [
    {
     "data": {
      "text/plain": [
       "[(4, 'Mary', 'Jones', 31, 'BCom', 3, 23000, datetime.date(2013, 12, 30)),\n",
       " (10, 'Noah', 'Jones', 22, 'BE', 4, 95890, datetime.date(2019, 4, 15)),\n",
       " (12, 'Leo', 'Johnson', 29, 'ME', 2, 198700, datetime.date(2015, 6, 19))]"
      ]
     },
     "execution_count": 26,
     "metadata": {},
     "output_type": "execute_result"
    }
   ],
   "source": [
    "cur.execute(\"select * from student where l_name like '%on%'\")\n",
    "cur.fetchall()"
   ]
  },
  {
   "cell_type": "markdown",
   "metadata": {},
   "source": [
    "- Selects all columns of the customer with a last name that starts with \"j\" and ends with \"s\""
   ]
  },
  {
   "cell_type": "code",
   "execution_count": 27,
   "metadata": {},
   "outputs": [
    {
     "data": {
      "text/plain": [
       "[(4, 'Mary', 'Jones', 31, 'BCom', 3, 23000, datetime.date(2013, 12, 30)),\n",
       " (10, 'Noah', 'Jones', 22, 'BE', 4, 95890, datetime.date(2019, 4, 15))]"
      ]
     },
     "execution_count": 27,
     "metadata": {},
     "output_type": "execute_result"
    }
   ],
   "source": [
    "cur.execute(\"select * from student where l_name like 'j%s'\")\n",
    "cur.fetchall()"
   ]
  },
  {
   "cell_type": "markdown",
   "metadata": {},
   "source": [
    "- Selects all columns of the customer with a first_name that starts with \"m\" and are at least four characters in length:"
   ]
  },
  {
   "cell_type": "code",
   "execution_count": 28,
   "metadata": {},
   "outputs": [
    {
     "data": {
      "text/plain": [
       "[(1, 'Mick', 'COX', 23, 'BE', 4, 93000, datetime.date(2018, 4, 9)),\n",
       " (4, 'Mary', 'Jones', 31, 'BCom', 3, 23000, datetime.date(2013, 12, 30))]"
      ]
     },
     "execution_count": 28,
     "metadata": {},
     "output_type": "execute_result"
    }
   ],
   "source": [
    "cur.execute(\"select * from student where f_name like 'M___'\")\n",
    "cur.fetchall()"
   ]
  },
  {
   "cell_type": "markdown",
   "metadata": {},
   "source": [
    "- <h3 style='color:#DD6611'> The SQL IN AND NOT IN OPERATORS"
   ]
  },
  {
   "cell_type": "markdown",
   "metadata": {},
   "source": [
    "- Selects all the details of student whose s_id in (1,2,3):"
   ]
  },
  {
   "cell_type": "code",
   "execution_count": 29,
   "metadata": {},
   "outputs": [
    {
     "data": {
      "text/plain": [
       "[(1, 'Mick', 'COX', 23, 'BE', 4, 93000, datetime.date(2018, 4, 9)),\n",
       " (2, 'Allen', 'Smith', 22, 'BSc', 3, 23900, datetime.date(2019, 5, 21)),\n",
       " (3, 'Jane', 'Brown', 23, 'BSc', 3, 31900, datetime.date(2018, 7, 2))]"
      ]
     },
     "execution_count": 29,
     "metadata": {},
     "output_type": "execute_result"
    }
   ],
   "source": [
    "cur.execute(\"select * from student where s_id in (1,2,3)\")\n",
    "cur.fetchall()"
   ]
  },
  {
   "cell_type": "markdown",
   "metadata": {},
   "source": [
    "- Selects all the details of student whose s_id not in (1,2,3)"
   ]
  },
  {
   "cell_type": "code",
   "execution_count": 30,
   "metadata": {},
   "outputs": [
    {
     "data": {
      "text/plain": [
       "[(4, 'Mary', 'Jones', 31, 'BCom', 3, 23000, datetime.date(2013, 12, 30)),\n",
       " (5, 'Ella', 'Garcia', 25, 'BE', 4, 89056, datetime.date(2017, 8, 19)),\n",
       " (6, 'Isla', 'Taylor', 20, 'BCom', 3, 30567, datetime.date(2020, 2, 17)),\n",
       " (7, 'Robert', 'Lee', 24, 'ME', 2, 234000, datetime.date(2018, 11, 29)),\n",
       " (8, 'John', 'Moore', 21, 'BCom', 3, 48770, datetime.date(2019, 6, 27)),\n",
       " (9, 'Jack', 'Davis', 20, 'BE', 4, 91064, datetime.date(2021, 7, 11)),\n",
       " (10, 'Noah', 'Jones', 22, 'BE', 4, 95890, datetime.date(2019, 4, 15)),\n",
       " (11, 'Alfie', 'White', 21, 'BSc', 3, 27980, datetime.date(2020, 2, 5)),\n",
       " (12, 'Leo', 'Johnson', 29, 'ME', 2, 198700, datetime.date(2015, 6, 19))]"
      ]
     },
     "execution_count": 30,
     "metadata": {},
     "output_type": "execute_result"
    }
   ],
   "source": [
    "cur.execute(\"select * from student where s_id not in (1,2,3)\")\n",
    "cur.fetchall()"
   ]
  },
  {
   "cell_type": "markdown",
   "metadata": {},
   "source": [
    "- <h3 style='color:#DD6611'> The SQL BETWEEN OPERATOR"
   ]
  },
  {
   "cell_type": "markdown",
   "metadata": {},
   "source": [
    "- Select all the columns from the student with s_id between 3 to 8"
   ]
  },
  {
   "cell_type": "code",
   "execution_count": 31,
   "metadata": {},
   "outputs": [
    {
     "data": {
      "text/plain": [
       "[(3, 'Jane', 'Brown', 23, 'BSc', 3, 31900, datetime.date(2018, 7, 2)),\n",
       " (4, 'Mary', 'Jones', 31, 'BCom', 3, 23000, datetime.date(2013, 12, 30)),\n",
       " (5, 'Ella', 'Garcia', 25, 'BE', 4, 89056, datetime.date(2017, 8, 19)),\n",
       " (6, 'Isla', 'Taylor', 20, 'BCom', 3, 30567, datetime.date(2020, 2, 17)),\n",
       " (7, 'Robert', 'Lee', 24, 'ME', 2, 234000, datetime.date(2018, 11, 29)),\n",
       " (8, 'John', 'Moore', 21, 'BCom', 3, 48770, datetime.date(2019, 6, 27))]"
      ]
     },
     "execution_count": 31,
     "metadata": {},
     "output_type": "execute_result"
    }
   ],
   "source": [
    "cur.execute(\"select * from student where s_id between 3 and 8\")\n",
    "cur.fetchall()"
   ]
  },
  {
   "cell_type": "markdown",
   "metadata": {},
   "source": [
    "- Select all the columns from the student with s_id, not between 3 to 9"
   ]
  },
  {
   "cell_type": "code",
   "execution_count": 32,
   "metadata": {},
   "outputs": [
    {
     "data": {
      "text/plain": [
       "[(1, 'Mick', 'COX', 23, 'BE', 4, 93000, datetime.date(2018, 4, 9)),\n",
       " (2, 'Allen', 'Smith', 22, 'BSc', 3, 23900, datetime.date(2019, 5, 21)),\n",
       " (10, 'Noah', 'Jones', 22, 'BE', 4, 95890, datetime.date(2019, 4, 15)),\n",
       " (11, 'Alfie', 'White', 21, 'BSc', 3, 27980, datetime.date(2020, 2, 5)),\n",
       " (12, 'Leo', 'Johnson', 29, 'ME', 2, 198700, datetime.date(2015, 6, 19))]"
      ]
     },
     "execution_count": 32,
     "metadata": {},
     "output_type": "execute_result"
    }
   ],
   "source": [
    "cur.execute(\"select * from student where s_id not between 3 and 9\")\n",
    "cur.fetchall()"
   ]
  },
  {
   "cell_type": "markdown",
   "metadata": {},
   "source": [
    "- Select all the columns from the student with fees betweem 20K to 40K"
   ]
  },
  {
   "cell_type": "code",
   "execution_count": 33,
   "metadata": {},
   "outputs": [
    {
     "data": {
      "text/plain": [
       "[(2, 'Allen', 'Smith', 22, 'BSc', 3, 23900, datetime.date(2019, 5, 21)),\n",
       " (3, 'Jane', 'Brown', 23, 'BSc', 3, 31900, datetime.date(2018, 7, 2)),\n",
       " (4, 'Mary', 'Jones', 31, 'BCom', 3, 23000, datetime.date(2013, 12, 30)),\n",
       " (6, 'Isla', 'Taylor', 20, 'BCom', 3, 30567, datetime.date(2020, 2, 17)),\n",
       " (11, 'Alfie', 'White', 21, 'BSc', 3, 27980, datetime.date(2020, 2, 5))]"
      ]
     },
     "execution_count": 33,
     "metadata": {},
     "output_type": "execute_result"
    }
   ],
   "source": [
    "cur.execute(\"select * from student where fees between 20000 and 40000\")\n",
    "cur.fetchall()"
   ]
  },
  {
   "cell_type": "markdown",
   "metadata": {},
   "source": [
    "- <h3 style='color:#DD6611'> The SQL ALIAS"
   ]
  },
  {
   "cell_type": "markdown",
   "metadata": {},
   "source": [
    "- Creates two aliases, one for the first_name column and one for the last_name column"
   ]
  },
  {
   "cell_type": "code",
   "execution_count": 34,
   "metadata": {},
   "outputs": [
    {
     "data": {
      "text/plain": [
       "[('Mick', 'COX'),\n",
       " ('Allen', 'Smith'),\n",
       " ('Jane', 'Brown'),\n",
       " ('Mary', 'Jones'),\n",
       " ('Ella', 'Garcia'),\n",
       " ('Isla', 'Taylor'),\n",
       " ('Robert', 'Lee'),\n",
       " ('John', 'Moore'),\n",
       " ('Jack', 'Davis'),\n",
       " ('Noah', 'Jones'),\n",
       " ('Alfie', 'White'),\n",
       " ('Leo', 'Johnson')]"
      ]
     },
     "execution_count": 34,
     "metadata": {},
     "output_type": "execute_result"
    }
   ],
   "source": [
    "cur.execute(\"select f_name as first_name, l_name as last_name from student\")\n",
    "cur.fetchall()"
   ]
  },
  {
   "cell_type": "markdown",
   "metadata": {},
   "source": [
    "- Create an alias for the student table"
   ]
  },
  {
   "cell_type": "code",
   "execution_count": 35,
   "metadata": {},
   "outputs": [
    {
     "data": {
      "text/plain": [
       "[('Mick', 'COX'),\n",
       " ('Allen', 'Smith'),\n",
       " ('Jane', 'Brown'),\n",
       " ('Mary', 'Jones'),\n",
       " ('Ella', 'Garcia'),\n",
       " ('Isla', 'Taylor'),\n",
       " ('Robert', 'Lee'),\n",
       " ('John', 'Moore'),\n",
       " ('Jack', 'Davis'),\n",
       " ('Noah', 'Jones'),\n",
       " ('Alfie', 'White'),\n",
       " ('Leo', 'Johnson')]"
      ]
     },
     "execution_count": 35,
     "metadata": {},
     "output_type": "execute_result"
    }
   ],
   "source": [
    "cur.execute(\"Select s.f_name,s.l_name from Student as s\")\n",
    "cur.fetchall()"
   ]
  },
  {
   "cell_type": "markdown",
   "metadata": {},
   "source": [
    "- <h3 style='color:#DD6611'> Aggregate Functionds"
   ]
  },
  {
   "cell_type": "markdown",
   "metadata": {},
   "source": [
    "- Find the small age"
   ]
  },
  {
   "cell_type": "code",
   "execution_count": 36,
   "metadata": {},
   "outputs": [
    {
     "data": {
      "text/plain": [
       "[(20,)]"
      ]
     },
     "execution_count": 36,
     "metadata": {},
     "output_type": "execute_result"
    }
   ],
   "source": [
    "cur.execute(\"select min(s_age) from student\")\n",
    "cur.fetchall()"
   ]
  },
  {
   "cell_type": "markdown",
   "metadata": {},
   "source": [
    "- Hight fees"
   ]
  },
  {
   "cell_type": "code",
   "execution_count": 37,
   "metadata": {},
   "outputs": [
    {
     "data": {
      "text/plain": [
       "[(234000,)]"
      ]
     },
     "execution_count": 37,
     "metadata": {},
     "output_type": "execute_result"
    }
   ],
   "source": [
    "cur.execute(\"select max(fees) from student\")\n",
    "cur.fetchall()"
   ]
  },
  {
   "cell_type": "markdown",
   "metadata": {},
   "source": [
    "- Find total count of student"
   ]
  },
  {
   "cell_type": "code",
   "execution_count": 38,
   "metadata": {},
   "outputs": [
    {
     "data": {
      "text/plain": [
       "[(12,)]"
      ]
     },
     "execution_count": 38,
     "metadata": {},
     "output_type": "execute_result"
    }
   ],
   "source": [
    "cur.execute(\"select count(*) from student\")\n",
    "cur.fetchall()"
   ]
  },
  {
   "cell_type": "markdown",
   "metadata": {},
   "source": [
    "- Find average fees"
   ]
  },
  {
   "cell_type": "code",
   "execution_count": 39,
   "metadata": {},
   "outputs": [
    {
     "data": {
      "text/plain": [
       "[(Decimal('82318.9167'),)]"
      ]
     },
     "execution_count": 39,
     "metadata": {},
     "output_type": "execute_result"
    }
   ],
   "source": [
    "cur.execute(\"select AVG(fees) from student\")\n",
    "cur.fetchall()"
   ]
  },
  {
   "cell_type": "markdown",
   "metadata": {},
   "source": [
    "- Find Sum of age of all student"
   ]
  },
  {
   "cell_type": "code",
   "execution_count": 40,
   "metadata": {},
   "outputs": [
    {
     "data": {
      "text/plain": [
       "[(Decimal('281'),)]"
      ]
     },
     "execution_count": 40,
     "metadata": {},
     "output_type": "execute_result"
    }
   ],
   "source": [
    "cur.execute(\"Select sum(s_age) from student\")\n",
    "cur.fetchall()"
   ]
  },
  {
   "cell_type": "markdown",
   "metadata": {},
   "source": [
    "- <h3 style='color:#DD6611'> The SQL GROUP BY STATEMENT"
   ]
  },
  {
   "cell_type": "markdown",
   "metadata": {},
   "source": [
    "- Count the number of student in each course"
   ]
  },
  {
   "cell_type": "code",
   "execution_count": 41,
   "metadata": {},
   "outputs": [
    {
     "data": {
      "text/plain": [
       "[('BE', 4), ('BSc', 3), ('BCom', 3), ('ME', 2)]"
      ]
     },
     "execution_count": 41,
     "metadata": {},
     "output_type": "execute_result"
    }
   ],
   "source": [
    "cur.execute(\"select s_course,count(s_id) from student group by s_course\")\n",
    "cur.fetchall()"
   ]
  },
  {
   "cell_type": "markdown",
   "metadata": {},
   "source": [
    "- group  by duration"
   ]
  },
  {
   "cell_type": "code",
   "execution_count": 42,
   "metadata": {},
   "outputs": [
    {
     "data": {
      "text/plain": [
       "[(4,), (6,), (2,)]"
      ]
     },
     "execution_count": 42,
     "metadata": {},
     "output_type": "execute_result"
    }
   ],
   "source": [
    "cur.execute(\"select count(duration) from student group by duration\")\n",
    "cur.fetchall()"
   ]
  },
  {
   "cell_type": "markdown",
   "metadata": {},
   "source": [
    "- <h3 style='color:#DD6611'> The SQL HAVING CLAUSE"
   ]
  },
  {
   "cell_type": "markdown",
   "metadata": {},
   "source": [
    "- count the course whose course duration is greater than 2"
   ]
  },
  {
   "cell_type": "code",
   "execution_count": 45,
   "metadata": {},
   "outputs": [
    {
     "data": {
      "text/plain": [
       "[('BE', 4), ('BSc', 3), ('BCom', 3)]"
      ]
     },
     "execution_count": 45,
     "metadata": {},
     "output_type": "execute_result"
    }
   ],
   "source": [
    "cur.execute(\"select s_course,count(*) from student group by s_course having count(duration)>2\")\n",
    "cur.fetchall()"
   ]
  },
  {
   "cell_type": "markdown",
   "metadata": {},
   "source": [
    "- find the average age of student according to there courses"
   ]
  },
  {
   "cell_type": "code",
   "execution_count": 49,
   "metadata": {},
   "outputs": [
    {
     "data": {
      "text/plain": [
       "[('BE', Decimal('22.5000')),\n",
       " ('BSc', Decimal('22.0000')),\n",
       " ('BCom', Decimal('24.0000')),\n",
       " ('ME', Decimal('26.5000'))]"
      ]
     },
     "execution_count": 49,
     "metadata": {},
     "output_type": "execute_result"
    }
   ],
   "source": [
    "cur.execute(\"select s_course,avg(s_age) from student group by s_course\")\n",
    "cur.fetchall()"
   ]
  },
  {
   "cell_type": "markdown",
   "metadata": {},
   "source": [
    "- List the number of students which has a age more than 23"
   ]
  },
  {
   "cell_type": "code",
   "execution_count": 52,
   "metadata": {},
   "outputs": [
    {
     "data": {
      "text/plain": [
       "[(4, 'Mary', 'Jones', 31, 'BCom', 3, 23000, datetime.date(2013, 12, 30)),\n",
       " (7, 'Robert', 'Lee', 24, 'ME', 2, 234000, datetime.date(2018, 11, 29))]"
      ]
     },
     "execution_count": 52,
     "metadata": {},
     "output_type": "execute_result"
    }
   ],
   "source": [
    "cur.execute(\"select * from student group by(s_course) having s_age>23\")\n",
    "cur.fetchall()"
   ]
  },
  {
   "cell_type": "markdown",
   "metadata": {},
   "source": [
    "- <h3 style='color:#DD6611'>The SQL STORED PROCEDURE"
   ]
  },
  {
   "cell_type": "markdown",
   "metadata": {},
   "source": [
    "- create a store procedure with no parameter"
   ]
  },
  {
   "cell_type": "markdown",
   "metadata": {},
   "source": [
    "![store prodecure](https://github.com/Rushi21-kesh/SQL-Basic/blob/main/storeprocedure1.png?raw=true)"
   ]
  },
  {
   "cell_type": "markdown",
   "metadata": {},
   "source": [
    "- <h2 style='color:#DD6611'> Create a new table student2"
   ]
  },
  {
   "cell_type": "code",
   "execution_count": 61,
   "metadata": {},
   "outputs": [
    {
     "data": {
      "text/plain": [
       "[('student',), ('student2',)]"
      ]
     },
     "execution_count": 61,
     "metadata": {},
     "output_type": "execute_result"
    }
   ],
   "source": [
    "cur.execute('Create table student2(s_id int,f_name varchar(20),l_name varchar(20),s_age int,s_course varchar(20),duration int,fees int,join_date date, primary key(s_id))')\n",
    "cur.execute('show tables')\n",
    "cur.fetchall()"
   ]
  },
  {
   "cell_type": "markdown",
   "metadata": {},
   "source": [
    "- <h3 style='color:#DD6611'> Insert values in student2 table"
   ]
  },
  {
   "cell_type": "code",
   "execution_count": 62,
   "metadata": {},
   "outputs": [],
   "source": [
    "cur.execute(\"insert into student2 values(1,'Mick','COX',24,'BE',4,93000,'2018-04-09')\")\n",
    "cur.execute(\"insert into student2 values(2,'Harry','Leo',22,'BCA',3,12390,'2019-05-21')\")\n",
    "cur.execute(\"insert into student2 values(3,'Ada','Freya',25,'BCA',3,15900,'2017-02-22')\")\n",
    "cur.execute(\"insert into student2 values(4,'Paul','Alice',27,'MCA',2,23700,'2019-02-03')\")\n",
    "cur.execute(\"insert into student2 values(5,'Ella','Garcia',25,'BE',4,89056,'2017-08-19')\")\n",
    "cur.execute(\"insert into student2 values(6,'Isla','Taylor',20,'BCom',3,30567,'2020-02-17')\")\n",
    "cur.execute(\"insert into student2 values(7,'Robert','Lee',24,'ME',2,234000,'2018-11-29')\")\n",
    "cur.execute(\"insert into student2 values(8,'Anne','Noah',23,'MCA',2,18770,'2021-01-27')\")"
   ]
  },
  {
   "cell_type": "code",
   "execution_count": 64,
   "metadata": {},
   "outputs": [
    {
     "data": {
      "text/plain": [
       "[(1, 'Mick', 'COX', 24, 'BE', 4, 93000, datetime.date(2018, 4, 9)),\n",
       " (2, 'Harry', 'Leo', 22, 'BCA', 3, 12390, datetime.date(2019, 5, 21)),\n",
       " (3, 'Ada', 'Freya', 25, 'BCA', 3, 15900, datetime.date(2017, 2, 22)),\n",
       " (4, 'Paul', 'Alice', 27, 'MCA', 2, 23700, datetime.date(2019, 2, 3)),\n",
       " (5, 'Ella', 'Garcia', 25, 'BE', 4, 89056, datetime.date(2017, 8, 19)),\n",
       " (6, 'Isla', 'Taylor', 20, 'BCom', 3, 30567, datetime.date(2020, 2, 17)),\n",
       " (7, 'Robert', 'Lee', 24, 'ME', 2, 234000, datetime.date(2018, 11, 29)),\n",
       " (8, 'Anne', 'Noah', 23, 'MCA', 2, 18770, datetime.date(2021, 1, 27))]"
      ]
     },
     "execution_count": 64,
     "metadata": {},
     "output_type": "execute_result"
    }
   ],
   "source": [
    "mysql.commit()\n",
    "cur.execute('select * from student2')\n",
    "data = cur.fetchall()\n",
    "data"
   ]
  },
  {
   "cell_type": "markdown",
   "metadata": {},
   "source": [
    "- <h3 style='color:#DD6611'> Joining Operator\n",
    "\n",
    "    \n",
    "    - For joining i will considered student and student2 tables"
   ]
  },
  {
   "cell_type": "markdown",
   "metadata": {},
   "source": [
    "- find the unique records in table student and student2 without duplication"
   ]
  },
  {
   "cell_type": "code",
   "execution_count": 65,
   "metadata": {},
   "outputs": [
    {
     "data": {
      "text/plain": [
       "[(1, 'Mick', 'COX', 23, 'BE', 4, 93000, datetime.date(2018, 4, 9)),\n",
       " (2, 'Allen', 'Smith', 22, 'BSc', 3, 23900, datetime.date(2019, 5, 21)),\n",
       " (3, 'Jane', 'Brown', 23, 'BSc', 3, 31900, datetime.date(2018, 7, 2)),\n",
       " (4, 'Mary', 'Jones', 31, 'BCom', 3, 23000, datetime.date(2013, 12, 30)),\n",
       " (5, 'Ella', 'Garcia', 25, 'BE', 4, 89056, datetime.date(2017, 8, 19)),\n",
       " (6, 'Isla', 'Taylor', 20, 'BCom', 3, 30567, datetime.date(2020, 2, 17)),\n",
       " (7, 'Robert', 'Lee', 24, 'ME', 2, 234000, datetime.date(2018, 11, 29)),\n",
       " (8, 'John', 'Moore', 21, 'BCom', 3, 48770, datetime.date(2019, 6, 27)),\n",
       " (9, 'Jack', 'Davis', 20, 'BE', 4, 91064, datetime.date(2021, 7, 11)),\n",
       " (10, 'Noah', 'Jones', 22, 'BE', 4, 95890, datetime.date(2019, 4, 15)),\n",
       " (11, 'Alfie', 'White', 21, 'BSc', 3, 27980, datetime.date(2020, 2, 5)),\n",
       " (12, 'Leo', 'Johnson', 29, 'ME', 2, 198700, datetime.date(2015, 6, 19)),\n",
       " (1, 'Mick', 'COX', 24, 'BE', 4, 93000, datetime.date(2018, 4, 9)),\n",
       " (2, 'Harry', 'Leo', 22, 'BCA', 3, 12390, datetime.date(2019, 5, 21)),\n",
       " (3, 'Ada', 'Freya', 25, 'BCA', 3, 15900, datetime.date(2017, 2, 22)),\n",
       " (4, 'Paul', 'Alice', 27, 'MCA', 2, 23700, datetime.date(2019, 2, 3)),\n",
       " (8, 'Anne', 'Noah', 23, 'MCA', 2, 18770, datetime.date(2021, 1, 27))]"
      ]
     },
     "execution_count": 65,
     "metadata": {},
     "output_type": "execute_result"
    }
   ],
   "source": [
    "cur.execute(\"Select * from student union select * from student2\")\n",
    "cur.fetchall()"
   ]
  },
  {
   "cell_type": "markdown",
   "metadata": {},
   "source": [
    "- find the unique records in table student and student2 with duplication"
   ]
  },
  {
   "cell_type": "code",
   "execution_count": 66,
   "metadata": {},
   "outputs": [
    {
     "data": {
      "text/plain": [
       "[(1, 'Mick', 'COX', 23, 'BE', 4, 93000, datetime.date(2018, 4, 9)),\n",
       " (2, 'Allen', 'Smith', 22, 'BSc', 3, 23900, datetime.date(2019, 5, 21)),\n",
       " (3, 'Jane', 'Brown', 23, 'BSc', 3, 31900, datetime.date(2018, 7, 2)),\n",
       " (4, 'Mary', 'Jones', 31, 'BCom', 3, 23000, datetime.date(2013, 12, 30)),\n",
       " (5, 'Ella', 'Garcia', 25, 'BE', 4, 89056, datetime.date(2017, 8, 19)),\n",
       " (6, 'Isla', 'Taylor', 20, 'BCom', 3, 30567, datetime.date(2020, 2, 17)),\n",
       " (7, 'Robert', 'Lee', 24, 'ME', 2, 234000, datetime.date(2018, 11, 29)),\n",
       " (8, 'John', 'Moore', 21, 'BCom', 3, 48770, datetime.date(2019, 6, 27)),\n",
       " (9, 'Jack', 'Davis', 20, 'BE', 4, 91064, datetime.date(2021, 7, 11)),\n",
       " (10, 'Noah', 'Jones', 22, 'BE', 4, 95890, datetime.date(2019, 4, 15)),\n",
       " (11, 'Alfie', 'White', 21, 'BSc', 3, 27980, datetime.date(2020, 2, 5)),\n",
       " (12, 'Leo', 'Johnson', 29, 'ME', 2, 198700, datetime.date(2015, 6, 19)),\n",
       " (1, 'Mick', 'COX', 24, 'BE', 4, 93000, datetime.date(2018, 4, 9)),\n",
       " (2, 'Harry', 'Leo', 22, 'BCA', 3, 12390, datetime.date(2019, 5, 21)),\n",
       " (3, 'Ada', 'Freya', 25, 'BCA', 3, 15900, datetime.date(2017, 2, 22)),\n",
       " (4, 'Paul', 'Alice', 27, 'MCA', 2, 23700, datetime.date(2019, 2, 3)),\n",
       " (5, 'Ella', 'Garcia', 25, 'BE', 4, 89056, datetime.date(2017, 8, 19)),\n",
       " (6, 'Isla', 'Taylor', 20, 'BCom', 3, 30567, datetime.date(2020, 2, 17)),\n",
       " (7, 'Robert', 'Lee', 24, 'ME', 2, 234000, datetime.date(2018, 11, 29)),\n",
       " (8, 'Anne', 'Noah', 23, 'MCA', 2, 18770, datetime.date(2021, 1, 27))]"
      ]
     },
     "execution_count": 66,
     "metadata": {},
     "output_type": "execute_result"
    }
   ],
   "source": [
    "cur.execute(\"select * from student union all select * from student2\")\n",
    "cur.fetchall()"
   ]
  },
  {
   "cell_type": "markdown",
   "metadata": {},
   "source": [
    "- <h3 style='color:#DD6611'> SQL JOIN TYPEs"
   ]
  },
  {
   "cell_type": "markdown",
   "metadata": {},
   "source": [
    "- print the comman record between student and student2 table\n",
    "- inner join"
   ]
  },
  {
   "cell_type": "markdown",
   "metadata": {},
   "source": [
    "- Find the id,name and age of student whoes age is same"
   ]
  },
  {
   "cell_type": "code",
   "execution_count": 80,
   "metadata": {},
   "outputs": [
    {
     "data": {
      "text/plain": [
       "[(1, 'Mick', 8, 'Anne', 23, 23),\n",
       " (2, 'Allen', 2, 'Harry', 22, 22),\n",
       " (3, 'Jane', 8, 'Anne', 23, 23),\n",
       " (5, 'Ella', 5, 'Ella', 25, 25),\n",
       " (5, 'Ella', 3, 'Ada', 25, 25),\n",
       " (6, 'Isla', 6, 'Isla', 20, 20),\n",
       " (7, 'Robert', 7, 'Robert', 24, 24),\n",
       " (7, 'Robert', 1, 'Mick', 24, 24),\n",
       " (9, 'Jack', 6, 'Isla', 20, 20),\n",
       " (10, 'Noah', 2, 'Harry', 22, 22)]"
      ]
     },
     "execution_count": 80,
     "metadata": {},
     "output_type": "execute_result"
    }
   ],
   "source": [
    "cur.execute(\"select s.s_id,s.f_name,s1.s_id,s1.f_name,s.s_age,s1.s_age from student as s inner join student2 as s1 on s.s_age=s1.s_age\")\n",
    "cur.fetchall()"
   ]
  },
  {
   "cell_type": "markdown",
   "metadata": {},
   "source": [
    "- find all the record in student2 and matching record in student"
   ]
  },
  {
   "cell_type": "code",
   "execution_count": 85,
   "metadata": {},
   "outputs": [
    {
     "data": {
      "text/plain": [
       "[(1, 'Mick', 10, 'Noah', 'BE', 'BE'),\n",
       " (1, 'Mick', 9, 'Jack', 'BE', 'BE'),\n",
       " (1, 'Mick', 5, 'Ella', 'BE', 'BE'),\n",
       " (1, 'Mick', 1, 'Mick', 'BE', 'BE'),\n",
       " (2, 'Harry', None, None, 'BCA', None),\n",
       " (3, 'Ada', None, None, 'BCA', None),\n",
       " (4, 'Paul', None, None, 'MCA', None),\n",
       " (5, 'Ella', 10, 'Noah', 'BE', 'BE'),\n",
       " (5, 'Ella', 9, 'Jack', 'BE', 'BE'),\n",
       " (5, 'Ella', 5, 'Ella', 'BE', 'BE'),\n",
       " (5, 'Ella', 1, 'Mick', 'BE', 'BE'),\n",
       " (6, 'Isla', 8, 'John', 'BCom', 'BCom'),\n",
       " (6, 'Isla', 6, 'Isla', 'BCom', 'BCom'),\n",
       " (6, 'Isla', 4, 'Mary', 'BCom', 'BCom'),\n",
       " (7, 'Robert', 12, 'Leo', 'ME', 'ME'),\n",
       " (7, 'Robert', 7, 'Robert', 'ME', 'ME'),\n",
       " (8, 'Anne', None, None, 'MCA', None)]"
      ]
     },
     "execution_count": 85,
     "metadata": {},
     "output_type": "execute_result"
    }
   ],
   "source": [
    "cur.execute(\"select s.s_id,s.f_name,s1.s_id,s1.f_name,s.s_course,s1.s_course from student2 as s left join student as s1 on s.s_course=s1.s_course\")\n",
    "cur.fetchall()"
   ]
  },
  {
   "cell_type": "markdown",
   "metadata": {},
   "source": [
    "- find all the record in student2 and matching record in student\n",
    "- using right join"
   ]
  },
  {
   "cell_type": "code",
   "execution_count": 86,
   "metadata": {},
   "outputs": [
    {
     "data": {
      "text/plain": [
       "[(10, 'Noah', 1, 'Mick', 'BE', 'BE'),\n",
       " (9, 'Jack', 1, 'Mick', 'BE', 'BE'),\n",
       " (5, 'Ella', 1, 'Mick', 'BE', 'BE'),\n",
       " (1, 'Mick', 1, 'Mick', 'BE', 'BE'),\n",
       " (None, None, 2, 'Harry', None, 'BCA'),\n",
       " (None, None, 3, 'Ada', None, 'BCA'),\n",
       " (None, None, 4, 'Paul', None, 'MCA'),\n",
       " (10, 'Noah', 5, 'Ella', 'BE', 'BE'),\n",
       " (9, 'Jack', 5, 'Ella', 'BE', 'BE'),\n",
       " (5, 'Ella', 5, 'Ella', 'BE', 'BE'),\n",
       " (1, 'Mick', 5, 'Ella', 'BE', 'BE'),\n",
       " (8, 'John', 6, 'Isla', 'BCom', 'BCom'),\n",
       " (6, 'Isla', 6, 'Isla', 'BCom', 'BCom'),\n",
       " (4, 'Mary', 6, 'Isla', 'BCom', 'BCom'),\n",
       " (12, 'Leo', 7, 'Robert', 'ME', 'ME'),\n",
       " (7, 'Robert', 7, 'Robert', 'ME', 'ME'),\n",
       " (None, None, 8, 'Anne', None, 'MCA')]"
      ]
     },
     "execution_count": 86,
     "metadata": {},
     "output_type": "execute_result"
    }
   ],
   "source": [
    "cur.execute(\"select s.s_id,s.f_name,s1.s_id,s1.f_name,s.s_course,s1.s_course from student as s right join student2 as s1 on s.s_course=s1.s_course\")\n",
    "cur.fetchall()"
   ]
  },
  {
   "cell_type": "markdown",
   "metadata": {},
   "source": [
    "- self join"
   ]
  },
  {
   "cell_type": "code",
   "execution_count": 113,
   "metadata": {},
   "outputs": [
    {
     "name": "stdout",
     "output_type": "stream",
     "text": [
      "('Mick', 'Ella', 'BE')\n",
      "('Mick', 'Mick', 'BE')\n",
      "('Mary', 'Isla', 'BCom')\n",
      "('Ella', 'Ella', 'BE')\n",
      "('Ella', 'Mick', 'BE')\n",
      "('Isla', 'Isla', 'BCom')\n",
      "('Robert', 'Robert', 'ME')\n",
      "('John', 'Isla', 'BCom')\n",
      "('Jack', 'Ella', 'BE')\n",
      "('Jack', 'Mick', 'BE')\n",
      "('Noah', 'Ella', 'BE')\n",
      "('Noah', 'Mick', 'BE')\n",
      "('Leo', 'Robert', 'ME')\n"
     ]
    }
   ],
   "source": [
    "cur.execute(\"select s1.f_name,s2.f_name,s1.s_course from student as s1, student2 as s2 where s1.s_course=s2.s_course\")\n",
    "for i in cur.fetchall():\n",
    "    print(i,end='\\n')"
   ]
  },
  {
   "cell_type": "markdown",
   "metadata": {},
   "source": [
    "- <h4 style='color:#33AAAA'> NOTE  :\n",
    "\n",
    "    - MySQL don't support :    \n",
    "    \n",
    "            - EXCEPT operator\n",
    "            - INTERSECT operator    \n",
    "            - FULL OUTER JOIN"
   ]
  },
  {
   "cell_type": "markdown",
   "metadata": {},
   "source": [
    "<h2 align='center' style='color:#11BB11'>SQL DATABASE"
   ]
  },
  {
   "cell_type": "markdown",
   "metadata": {},
   "source": [
    "- <h3 style='color:#11DD11'> The SQL CREATE DATABASE STATEMENT"
   ]
  },
  {
   "cell_type": "markdown",
   "metadata": {},
   "source": [
    "- Let’s create a database and give name as testdb"
   ]
  },
  {
   "cell_type": "code",
   "execution_count": 123,
   "metadata": {},
   "outputs": [],
   "source": [
    "cur.execute(\"create database testdb\")"
   ]
  },
  {
   "cell_type": "markdown",
   "metadata": {},
   "source": [
    "-  check the databases in MySQL"
   ]
  },
  {
   "cell_type": "code",
   "execution_count": 124,
   "metadata": {},
   "outputs": [
    {
     "data": {
      "text/plain": [
       "[('bank',),\n",
       " ('information_schema',),\n",
       " ('mysql',),\n",
       " ('performance_schema',),\n",
       " ('rushi21',),\n",
       " ('sqlintro',),\n",
       " ('sys',),\n",
       " ('testdb',)]"
      ]
     },
     "execution_count": 124,
     "metadata": {},
     "output_type": "execute_result"
    }
   ],
   "source": [
    "cur.execute(\"show databases\")\n",
    "cur.fetchall()"
   ]
  },
  {
   "cell_type": "markdown",
   "metadata": {},
   "source": [
    "- Use testdb database"
   ]
  },
  {
   "cell_type": "code",
   "execution_count": 125,
   "metadata": {},
   "outputs": [],
   "source": [
    "cur.execute(\"use testdb\")"
   ]
  },
  {
   "cell_type": "markdown",
   "metadata": {},
   "source": [
    "- <h3 style='color:#11DD11'>The SQL CREATE TABLE"
   ]
  },
  {
   "cell_type": "markdown",
   "metadata": {},
   "source": [
    "- Let’s create a customer table"
   ]
  },
  {
   "cell_type": "code",
   "execution_count": 126,
   "metadata": {},
   "outputs": [],
   "source": [
    "cur.execute(\"create table customer(id int, first_name varchar(10),last_name varchar(10), city varchar(10), country varchar(10), phone varchar(10))\")"
   ]
  },
  {
   "cell_type": "markdown",
   "metadata": {},
   "source": [
    "- Check the schema of the table"
   ]
  },
  {
   "cell_type": "code",
   "execution_count": 127,
   "metadata": {},
   "outputs": [
    {
     "data": {
      "text/plain": [
       "[('id', b'int', 'YES', '', None, ''),\n",
       " ('first_name', b'varchar(10)', 'YES', '', None, ''),\n",
       " ('last_name', b'varchar(10)', 'YES', '', None, ''),\n",
       " ('city', b'varchar(10)', 'YES', '', None, ''),\n",
       " ('country', b'varchar(10)', 'YES', '', None, ''),\n",
       " ('phone', b'varchar(10)', 'YES', '', None, '')]"
      ]
     },
     "execution_count": 127,
     "metadata": {},
     "output_type": "execute_result"
    }
   ],
   "source": [
    "cur.execute(\"desc customer\")\n",
    "cur.fetchall()"
   ]
  },
  {
   "cell_type": "markdown",
   "metadata": {},
   "source": [
    "- <h3 style='color:#11DD11'>The SQL INSERT INTO STATEMENT"
   ]
  },
  {
   "cell_type": "markdown",
   "metadata": {},
   "source": [
    "- INSERT INTO query"
   ]
  },
  {
   "cell_type": "code",
   "execution_count": 129,
   "metadata": {},
   "outputs": [],
   "source": [
    "cur.execute(\"insert into customer values(2, 'Ana', 'Trujillo', 'Mexico', 'Mexico', 55554729)\")\n",
    "cur.execute(\"insert into customer values(3, 'Antonio', 'Moreno', 'Mexico', 'Mexico', 55553932)\")\n",
    "cur.execute(\"insert into customer values(4,'Thomas','Hardy','London','UK',5557788)\")\n",
    "cur.execute(\"insert into customer values(5,'Christina','Berglund','Lulea','Sweden',09211234)\")\n",
    "cur.execute(\"insert into customer values(6,'Hanna','Moos','Mannheim','Germany',62108460)\")\n",
    "cur.execute(\"insert into customer values(7,'Frederique','Citeaux','Strasbourg','France',88661531)\")\n",
    "cur.execute(\"insert into customer values(8,'Martin','Sommer','Madrid','Spain',5552280)\")\n",
    "cur.execute(\"insert into customer values(9,'Laurence','Lebihan','Marseille','France',91244540)\")\n",
    "cur.execute(\"insert into customer values(10,'Elizabeth','Lincoln','Tsawassen','Canada',5554729)\")\n",
    "cur.execute(\"insert into customer values(11,'Victoria','Ashworth','London','UK',5551212)\")\n",
    "mysql.commit()"
   ]
  },
  {
   "cell_type": "markdown",
   "metadata": {},
   "source": [
    "- print all records in customer table"
   ]
  },
  {
   "cell_type": "code",
   "execution_count": 130,
   "metadata": {},
   "outputs": [
    {
     "data": {
      "text/plain": [
       "[(2, 'Ana', 'Trujillo', 'Mexico', 'Mexico', '55554729'),\n",
       " (3, 'Antonio', 'Moreno', 'Mexico', 'Mexico', '55553932'),\n",
       " (4, 'Thomas', 'Hardy', 'London', 'UK', '5557788'),\n",
       " (5, 'Christina', 'Berglund', 'Lulea', 'Sweden', '9211234'),\n",
       " (6, 'Hanna', 'Moos', 'Mannheim', 'Germany', '62108460'),\n",
       " (7, 'Frederique', 'Citeaux', 'Strasbourg', 'France', '88661531'),\n",
       " (8, 'Martin', 'Sommer', 'Madrid', 'Spain', '5552280'),\n",
       " (9, 'Laurence', 'Lebihan', 'Marseille', 'France', '91244540'),\n",
       " (10, 'Elizabeth', 'Lincoln', 'Tsawassen', 'Canada', '5554729'),\n",
       " (11, 'Victoria', 'Ashworth', 'London', 'UK', '5551212')]"
      ]
     },
     "execution_count": 130,
     "metadata": {},
     "output_type": "execute_result"
    }
   ],
   "source": [
    "cur.execute(\"select * from customer\")\n",
    "cur.fetchall()"
   ]
  },
  {
   "cell_type": "markdown",
   "metadata": {},
   "source": [
    "- <h3 style='color:#11DD11'>The SQL NULL VALUES"
   ]
  },
  {
   "cell_type": "markdown",
   "metadata": {},
   "source": [
    "- Insert the NULL values in tables"
   ]
  },
  {
   "cell_type": "code",
   "execution_count": 131,
   "metadata": {},
   "outputs": [],
   "source": [
    "cur.execute(\"INSERT INTO customer VALUES(11, 'Victoria', 'Ashworth', 'London', NULL, 5551212)\")"
   ]
  },
  {
   "cell_type": "markdown",
   "metadata": {},
   "source": [
    "- check for NULL Values"
   ]
  },
  {
   "cell_type": "code",
   "execution_count": 132,
   "metadata": {},
   "outputs": [
    {
     "data": {
      "text/plain": [
       "[(11, 'Victoria', 'Ashworth', 'London', None, '5551212')]"
      ]
     },
     "execution_count": 132,
     "metadata": {},
     "output_type": "execute_result"
    }
   ],
   "source": [
    "cur.execute(\"select * from customer where country IS NULL\")\n",
    "cur.fetchall()"
   ]
  },
  {
   "cell_type": "markdown",
   "metadata": {},
   "source": [
    "- check for not NULL Values"
   ]
  },
  {
   "cell_type": "code",
   "execution_count": 133,
   "metadata": {},
   "outputs": [
    {
     "data": {
      "text/plain": [
       "[(2, 'Ana', 'Trujillo', 'Mexico', 'Mexico', '55554729'),\n",
       " (3, 'Antonio', 'Moreno', 'Mexico', 'Mexico', '55553932'),\n",
       " (4, 'Thomas', 'Hardy', 'London', 'UK', '5557788'),\n",
       " (5, 'Christina', 'Berglund', 'Lulea', 'Sweden', '9211234'),\n",
       " (6, 'Hanna', 'Moos', 'Mannheim', 'Germany', '62108460'),\n",
       " (7, 'Frederique', 'Citeaux', 'Strasbourg', 'France', '88661531'),\n",
       " (8, 'Martin', 'Sommer', 'Madrid', 'Spain', '5552280'),\n",
       " (9, 'Laurence', 'Lebihan', 'Marseille', 'France', '91244540'),\n",
       " (10, 'Elizabeth', 'Lincoln', 'Tsawassen', 'Canada', '5554729'),\n",
       " (11, 'Victoria', 'Ashworth', 'London', 'UK', '5551212')]"
      ]
     },
     "execution_count": 133,
     "metadata": {},
     "output_type": "execute_result"
    }
   ],
   "source": [
    "cur.execute(\"select * from customer where country IS NOT NULL\")\n",
    "cur.fetchall()"
   ]
  },
  {
   "cell_type": "markdown",
   "metadata": {},
   "source": [
    "- <h3 style='color:#11DD11'>The SQL UPDATE STATEMENT"
   ]
  },
  {
   "cell_type": "markdown",
   "metadata": {},
   "source": [
    "- update country = 'Maxico' where country is null"
   ]
  },
  {
   "cell_type": "code",
   "execution_count": 135,
   "metadata": {},
   "outputs": [
    {
     "data": {
      "text/plain": [
       "[]"
      ]
     },
     "execution_count": 135,
     "metadata": {},
     "output_type": "execute_result"
    }
   ],
   "source": [
    "cur.execute(\"update customer set country='Maxico' where country is NULL\")"
   ]
  },
  {
   "cell_type": "markdown",
   "metadata": {},
   "source": [
    "- Check table "
   ]
  },
  {
   "cell_type": "code",
   "execution_count": 136,
   "metadata": {},
   "outputs": [
    {
     "data": {
      "text/plain": [
       "[(2, 'Ana', 'Trujillo', 'Mexico', 'Mexico', '55554729'),\n",
       " (3, 'Antonio', 'Moreno', 'Mexico', 'Mexico', '55553932'),\n",
       " (4, 'Thomas', 'Hardy', 'London', 'UK', '5557788'),\n",
       " (5, 'Christina', 'Berglund', 'Lulea', 'Sweden', '9211234'),\n",
       " (6, 'Hanna', 'Moos', 'Mannheim', 'Germany', '62108460'),\n",
       " (7, 'Frederique', 'Citeaux', 'Strasbourg', 'France', '88661531'),\n",
       " (8, 'Martin', 'Sommer', 'Madrid', 'Spain', '5552280'),\n",
       " (9, 'Laurence', 'Lebihan', 'Marseille', 'France', '91244540'),\n",
       " (10, 'Elizabeth', 'Lincoln', 'Tsawassen', 'Canada', '5554729'),\n",
       " (11, 'Victoria', 'Ashworth', 'London', 'UK', '5551212'),\n",
       " (11, 'Victoria', 'Ashworth', 'London', 'Maxico', '5551212')]"
      ]
     },
     "execution_count": 136,
     "metadata": {},
     "output_type": "execute_result"
    }
   ],
   "source": [
    "cur.execute(\"select * from customer\")\n",
    "cur.fetchall()"
   ]
  },
  {
   "cell_type": "markdown",
   "metadata": {},
   "source": [
    "- <h3 style='color:#11DD11'>The SQL ALTER TABLE STATEMENT"
   ]
  },
  {
   "cell_type": "markdown",
   "metadata": {},
   "source": [
    "-  add a new column in a table"
   ]
  },
  {
   "cell_type": "code",
   "execution_count": 137,
   "metadata": {},
   "outputs": [
    {
     "data": {
      "text/plain": [
       "[('id', b'int', 'YES', '', None, ''),\n",
       " ('first_name', b'varchar(10)', 'YES', '', None, ''),\n",
       " ('last_name', b'varchar(10)', 'YES', '', None, ''),\n",
       " ('city', b'varchar(10)', 'YES', '', None, ''),\n",
       " ('country', b'varchar(10)', 'YES', '', None, ''),\n",
       " ('phone', b'varchar(10)', 'YES', '', None, ''),\n",
       " ('emai_id', b'varchar(25)', 'YES', '', None, '')]"
      ]
     },
     "execution_count": 137,
     "metadata": {},
     "output_type": "execute_result"
    }
   ],
   "source": [
    "cur.execute(\"alter table customer add emai_id varchar(25)\")\n",
    "cur.execute(\"desc customer\")\n",
    "cur.fetchall()"
   ]
  },
  {
   "cell_type": "code",
   "execution_count": 138,
   "metadata": {},
   "outputs": [
    {
     "data": {
      "text/plain": [
       "[('id', b'int', 'YES', '', None, ''),\n",
       " ('first_name', b'varchar(10)', 'YES', '', None, ''),\n",
       " ('last_name', b'varchar(10)', 'YES', '', None, ''),\n",
       " ('city', b'varchar(10)', 'YES', '', None, ''),\n",
       " ('country', b'varchar(10)', 'YES', '', None, ''),\n",
       " ('phone', b'varchar(10)', 'YES', '', None, ''),\n",
       " ('emai_id', b'varchar(25)', 'YES', '', None, ''),\n",
       " ('DOB', b'varchar(25)', 'YES', '', None, '')]"
      ]
     },
     "execution_count": 138,
     "metadata": {},
     "output_type": "execute_result"
    }
   ],
   "source": [
    "cur.execute(\"alter table customer add DOB varchar(25)\")\n",
    "cur.execute(\"desc customer\")\n",
    "cur.fetchall()"
   ]
  },
  {
   "cell_type": "markdown",
   "metadata": {},
   "source": [
    "- change the data type of column DOB to date in a table"
   ]
  },
  {
   "cell_type": "code",
   "execution_count": 143,
   "metadata": {},
   "outputs": [
    {
     "data": {
      "text/plain": [
       "[('id', b'int', 'YES', '', None, ''),\n",
       " ('first_name', b'varchar(10)', 'YES', '', None, ''),\n",
       " ('last_name', b'varchar(10)', 'YES', '', None, ''),\n",
       " ('city', b'varchar(10)', 'YES', '', None, ''),\n",
       " ('country', b'varchar(10)', 'YES', '', None, ''),\n",
       " ('phone', b'varchar(10)', 'YES', '', None, ''),\n",
       " ('emai_id', b'varchar(25)', 'YES', '', None, ''),\n",
       " ('DOB', b'date', 'YES', '', None, '')]"
      ]
     },
     "execution_count": 143,
     "metadata": {},
     "output_type": "execute_result"
    }
   ],
   "source": [
    "cur.execute(\"alter table customer modify DOB date\")\n",
    "cur.execute(\"desc customer\")\n",
    "cur.fetchall()"
   ]
  },
  {
   "cell_type": "markdown",
   "metadata": {},
   "source": [
    "- <h3 style='color:#11DD11'> The SQL DELETE RECORDS"
   ]
  },
  {
   "cell_type": "markdown",
   "metadata": {},
   "source": [
    "- Delete all records where city is london"
   ]
  },
  {
   "cell_type": "code",
   "execution_count": 145,
   "metadata": {},
   "outputs": [
    {
     "data": {
      "text/plain": [
       "[(2, 'Ana', 'Trujillo', 'Mexico', 'Mexico', '55554729', None, None),\n",
       " (3, 'Antonio', 'Moreno', 'Mexico', 'Mexico', '55553932', None, None),\n",
       " (5, 'Christina', 'Berglund', 'Lulea', 'Sweden', '9211234', None, None),\n",
       " (6, 'Hanna', 'Moos', 'Mannheim', 'Germany', '62108460', None, None),\n",
       " (7, 'Frederique', 'Citeaux', 'Strasbourg', 'France', '88661531', None, None),\n",
       " (8, 'Martin', 'Sommer', 'Madrid', 'Spain', '5552280', None, None),\n",
       " (9, 'Laurence', 'Lebihan', 'Marseille', 'France', '91244540', None, None),\n",
       " (10, 'Elizabeth', 'Lincoln', 'Tsawassen', 'Canada', '5554729', None, None)]"
      ]
     },
     "execution_count": 145,
     "metadata": {},
     "output_type": "execute_result"
    }
   ],
   "source": [
    "cur.execute(\"delete from customer where city='London'\")\n",
    "cur.execute(\"select * from customer\")\n",
    "cur.fetchall()"
   ]
  },
  {
   "cell_type": "markdown",
   "metadata": {},
   "source": [
    "- <h3 style='color:#11DD11'> The SQL DELETE COLUMNS (ALTER TABLE - DROP COLUMN)"
   ]
  },
  {
   "cell_type": "markdown",
   "metadata": {},
   "source": [
    "- Drop emai_id columns in table"
   ]
  },
  {
   "cell_type": "code",
   "execution_count": 149,
   "metadata": {},
   "outputs": [
    {
     "data": {
      "text/plain": [
       "[('id', b'int', 'YES', '', None, ''),\n",
       " ('first_name', b'varchar(10)', 'YES', '', None, ''),\n",
       " ('last_name', b'varchar(10)', 'YES', '', None, ''),\n",
       " ('city', b'varchar(10)', 'YES', '', None, ''),\n",
       " ('country', b'varchar(10)', 'YES', '', None, ''),\n",
       " ('phone', b'varchar(10)', 'YES', '', None, ''),\n",
       " ('DOB', b'date', 'YES', '', None, '')]"
      ]
     },
     "execution_count": 149,
     "metadata": {},
     "output_type": "execute_result"
    }
   ],
   "source": [
    "cur.execute(\"alter table customer drop column emai_id \")\n",
    "cur.execute(\"desc customer\")\n",
    "cur.fetchall()"
   ]
  },
  {
   "cell_type": "markdown",
   "metadata": {},
   "source": [
    "- <h3 style='color:#11DD11'>The SQL DROP TABLE STATEMENT"
   ]
  },
  {
   "cell_type": "markdown",
   "metadata": {},
   "source": [
    "- drop an existing customer table in a database"
   ]
  },
  {
   "cell_type": "code",
   "execution_count": 150,
   "metadata": {},
   "outputs": [],
   "source": [
    "cur.execute(\"DROP TABLE customer\")"
   ]
  },
  {
   "cell_type": "markdown",
   "metadata": {},
   "source": [
    "- check tables in database testdb"
   ]
  },
  {
   "cell_type": "code",
   "execution_count": 151,
   "metadata": {},
   "outputs": [
    {
     "data": {
      "text/plain": [
       "[]"
      ]
     },
     "execution_count": 151,
     "metadata": {},
     "output_type": "execute_result"
    }
   ],
   "source": [
    "cur.execute(\"show tables\")\n",
    "cur.fetchall()"
   ]
  },
  {
   "cell_type": "markdown",
   "metadata": {},
   "source": [
    "- <h3 style='color:#11DD11'>The SQL DROP DATABASE STATEMENT"
   ]
  },
  {
   "cell_type": "markdown",
   "metadata": {},
   "source": [
    "- Let’s drop the created database"
   ]
  },
  {
   "cell_type": "code",
   "execution_count": 152,
   "metadata": {},
   "outputs": [],
   "source": [
    "cur.execute(\"drop database testdb\")"
   ]
  },
  {
   "cell_type": "markdown",
   "metadata": {},
   "source": [
    "-  check the databases in MySQL"
   ]
  },
  {
   "cell_type": "code",
   "execution_count": 153,
   "metadata": {},
   "outputs": [
    {
     "data": {
      "text/plain": [
       "[('bank',),\n",
       " ('information_schema',),\n",
       " ('mysql',),\n",
       " ('performance_schema',),\n",
       " ('rushi21',),\n",
       " ('sqlintro',),\n",
       " ('sys',)]"
      ]
     },
     "execution_count": 153,
     "metadata": {},
     "output_type": "execute_result"
    }
   ],
   "source": [
    "cur.execute(\"show databases\")\n",
    "cur.fetchall()"
   ]
  },
  {
   "cell_type": "markdown",
   "metadata": {},
   "source": [
    "<h2 align='right' style='color:#9900AA'> Thank You!\n",
    "    <h3 align='right' style='color:#9900AA'> Rushikesh"
   ]
  }
 ],
 "metadata": {
  "kernelspec": {
   "display_name": "Python 3",
   "language": "python",
   "name": "python3"
  },
  "language_info": {
   "codemirror_mode": {
    "name": "ipython",
    "version": 3
   },
   "file_extension": ".py",
   "mimetype": "text/x-python",
   "name": "python",
   "nbconvert_exporter": "python",
   "pygments_lexer": "ipython3",
   "version": "3.8.5"
  }
 },
 "nbformat": 4,
 "nbformat_minor": 5
}
